{
 "cells": [
  {
   "cell_type": "code",
   "execution_count": 1,
   "metadata": {},
   "outputs": [],
   "source": [
    "from domrl.engine.game import Game\n",
    "from domrl.engine.agent import StdinAgent\n",
    "from domrl.agents.big_money_agent import BigMoneyAgent\n",
    "import domrl.engine.cards.base as base"
   ]
  },
  {
   "cell_type": "code",
   "execution_count": 3,
   "metadata": {},
   "outputs": [
    {
     "name": "stdout",
     "output_type": "stream",
     "text": [
      "Starting game with following Supply piles:\n",
      "Bandit\n",
      "Sentry\n",
      "Bureaucrat\n",
      "Cellar\n",
      "Throne Room\n",
      "Vassal\n",
      "Militia\n",
      "Festival\n",
      "Mine\n",
      "Remodel\n",
      "The winner is Player 2!\n",
      "Player 1: 21 VP\n",
      "Player 2: 33 VP\n"
     ]
    }
   ],
   "source": [
    "game = Game(\n",
    "    agents=[BigMoneyAgent(), BigMoneyAgent()],\n",
    "    kingdoms=[base.BaseKingdom],\n",
    "    verbose=False\n",
    ")\n",
    "game.run()\n",
    "game.print_result()"
   ]
  },
  {
   "cell_type": "code",
   "execution_count": 4,
   "metadata": {},
   "outputs": [
    {
     "name": "stdout",
     "output_type": "stream",
     "text": [
      "Starting game with following Supply piles:\n",
      "Bureaucrat\n",
      "Merchant\n",
      "Library\n",
      "Festival\n",
      "Mine\n",
      "Bandit\n",
      "Remodel\n",
      "Workshop\n",
      "Laboratory\n",
      "Vassal\n",
      "The winner is Player 2!\n",
      "Player 1: 21 VP\n",
      "Player 2: 33 VP\n"
     ]
    }
   ],
   "source": [
    "game = Game(\n",
    "    agents=[BigMoneyAgent(), BigMoneyAgent()],\n",
    "    kingdoms=[base.BaseKingdom],\n",
    "    verbose=False\n",
    ")\n",
    "game.run()\n",
    "game.print_result()"
   ]
  },
  {
   "cell_type": "code",
   "execution_count": 5,
   "metadata": {},
   "outputs": [
    {
     "name": "stdout",
     "output_type": "stream",
     "text": [
      "Starting game with following Supply piles:\n",
      "Council Room\n",
      "Moat\n",
      "Bureaucrat\n",
      "Witch\n",
      "Merchant\n",
      "Militia\n",
      "Workshop\n",
      "Gardens\n",
      "Library\n",
      "Market\n",
      "The winner is Player 2!\n",
      "Player 1: 27 VP\n",
      "Player 2: 27 VP\n"
     ]
    }
   ],
   "source": [
    "game = Game(\n",
    "    agents=[BigMoneyAgent(), BigMoneyAgent()],\n",
    "    kingdoms=[base.BaseKingdom],\n",
    "    verbose=False\n",
    ")\n",
    "game.run()\n",
    "game.print_result()"
   ]
  },
  {
   "cell_type": "code",
   "execution_count": 6,
   "metadata": {},
   "outputs": [
    {
     "name": "stdout",
     "output_type": "stream",
     "text": [
      "Starting game with following Supply piles:\n",
      "Laboratory\n",
      "Remodel\n",
      "Witch\n",
      "Artisan\n",
      "Village\n",
      "Cellar\n",
      "Merchant\n",
      "Throne Room\n",
      "Militia\n",
      "Sentry\n",
      "It's a tie!\n",
      "Player 1: 27 VP\n",
      "Player 2: 27 VP\n"
     ]
    }
   ],
   "source": [
    "game = Game(\n",
    "    agents=[BigMoneyAgent(), BigMoneyAgent()],\n",
    "    kingdoms=[base.BaseKingdom],\n",
    "    verbose=False\n",
    ")\n",
    "game.run()\n",
    "game.print_result()"
   ]
  },
  {
   "cell_type": "code",
   "execution_count": null,
   "metadata": {},
   "outputs": [],
   "source": []
  }
 ],
 "metadata": {
  "kernelspec": {
   "display_name": "Python 3",
   "language": "python",
   "name": "python3"
  },
  "language_info": {
   "codemirror_mode": {
    "name": "ipython",
    "version": 3
   },
   "file_extension": ".py",
   "mimetype": "text/x-python",
   "name": "python",
   "nbconvert_exporter": "python",
   "pygments_lexer": "ipython3",
   "version": "3.7.4"
  }
 },
 "nbformat": 4,
 "nbformat_minor": 4
}
